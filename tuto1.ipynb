{
  "nbformat": 4,
  "nbformat_minor": 0,
  "metadata": {
    "colab": {
      "provenance": []
    },
    "kernelspec": {
      "name": "python3",
      "display_name": "Python 3"
    },
    "language_info": {
      "name": "python"
    }
  },
  "cells": [
    {
      "cell_type": "code",
      "execution_count": 3,
      "metadata": {
        "colab": {
          "base_uri": "https://localhost:8080/"
        },
        "id": "4brYSDtnMguW",
        "outputId": "b9340a41-9a11-43c2-f2ee-cdd0d3b10e3c"
      },
      "outputs": [
        {
          "output_type": "stream",
          "name": "stdout",
          "text": [
            "hello world\n"
          ]
        }
      ],
      "source": [
        "print(\"hello world\")"
      ]
    },
    {
      "cell_type": "code",
      "source": [
        "import tensorflow as tf\n",
        "import matplotlib.pyplot as plt\n",
        "import numpy as np\n",
        "import pandas as pd\n",
        "import sys"
      ],
      "metadata": {
        "id": "MIIPg81AMnFD"
      },
      "execution_count": 4,
      "outputs": []
    },
    {
      "cell_type": "code",
      "source": [
        "assert hasattr(tf, \"function\")"
      ],
      "metadata": {
        "id": "6Qbm_vNMfpfZ"
      },
      "execution_count": 5,
      "outputs": []
    },
    {
      "cell_type": "code",
      "source": [
        "fashion_mnist = tf.keras.datasets.fashion_mnist\n",
        "(images, targets), (_,_) = fashion_mnist.load_data()\n",
        "images = (images - np.mean(images)) / np.std(images)\n",
        "images = images[:10000]\n",
        "targets = targets[:10000]"
      ],
      "metadata": {
        "id": "pSPQbRrWftyH"
      },
      "execution_count": 31,
      "outputs": []
    },
    {
      "cell_type": "code",
      "source": [
        "targets_names = [\"T-shirt/top\", \"Trouser\", \"Pullover\", \"Dress\", \"Coat\", \"Sandal\", \"Shirt\", \"Sneaker\", \"Bag\", \"Ankle Boot\"]\n",
        "plt.imshow(images[10], cmap=\"binary\")\n",
        "plt.title(targets_names[targets[10]])\n",
        "plt.show()"
      ],
      "metadata": {
        "colab": {
          "base_uri": "https://localhost:8080/",
          "height": 452
        },
        "id": "1cqLgn3FgZhC",
        "outputId": "405918a7-acfc-400a-d216-9db7c225d34b"
      },
      "execution_count": 32,
      "outputs": [
        {
          "output_type": "display_data",
          "data": {
            "text/plain": [
              "<Figure size 640x480 with 1 Axes>"
            ],
            "image/png": "[encoded data removed]"
          },
          "metadata": {}
        }
      ]
    },
    {
      "cell_type": "code",
      "source": [
        "print(\"First line of one image\", images[11][0])\n",
        "print(\"Associated target\", targets[11])"
      ],
      "metadata": {
        "colab": {
          "base_uri": "https://localhost:8080/"
        },
        "id": "AEUBT8MEg8of",
        "outputId": "459c5a73-4f93-4624-821c-b311729663ed"
      },
      "execution_count": 33,
      "outputs": [
        {
          "output_type": "stream",
          "name": "stdout",
          "text": [
            "First line of one image [-0.81025766 -0.81025766 -0.81025766 -0.81025766 -0.81025766 -0.81025766\n",
            " -0.81025766 -0.81025766 -0.81025766 -0.81025766 -0.81025766 -0.81025766\n",
            " -0.81025766 -0.81025766 -0.37702629  0.42278547  0.22283253  0.13396456\n",
            " -0.51032825 -0.81025766 -0.81025766 -0.81025766 -0.81025766 -0.81025766\n",
            " -0.79914916 -0.81025766 -0.81025766 -0.81025766]\n",
            "Associated target 9\n"
          ]
        }
      ]
    },
    {
      "cell_type": "code",
      "source": [
        "model = tf.keras.models.Sequential()\n",
        "model.add(tf.keras.layers.Flatten(input_shape=[28, 28]))\n",
        "\n",
        "print(\"Shape of the image\", images[0:1].shape)\n",
        "model_output = model.predict(images[0:1])\n",
        "print(\"Shape of the image after the Flattern\", model_output.shape)"
      ],
      "metadata": {
        "colab": {
          "base_uri": "https://localhost:8080/"
        },
        "id": "jsO2krEwh4GG",
        "outputId": "6a47a9dd-2abe-4cf9-a46e-5defb11d26ba"
      },
      "execution_count": 34,
      "outputs": [
        {
          "output_type": "stream",
          "name": "stdout",
          "text": [
            "Shape of the image (1, 28, 28)\n",
            "1/1 [==============================] - 0s 66ms/step\n",
            "Shape of the image after the Flattern (1, 784)\n"
          ]
        }
      ]
    },
    {
      "cell_type": "code",
      "source": [
        "model = tf.keras.models.Sequential()\n",
        "model.add(tf.keras.layers.Flatten(input_shape=[28,28]))\n",
        "\n",
        "model.add(tf.keras.layers.Dense(256, activation=\"relu\"))\n",
        "model.add(tf.keras.layers.Dense(128, activation=\"relu\"))\n",
        "model.add(tf.keras.layers.Dense(10, activation=\"softmax\"))\n",
        "\n",
        "model_output = model.predict(images[0:1])\n",
        "print(model_output, targets[0:1])"
      ],
      "metadata": {
        "colab": {
          "base_uri": "https://localhost:8080/"
        },
        "id": "9efmsqt-hrig",
        "outputId": "e196493a-4387-4a8e-8c0b-f37b85fe78ec"
      },
      "execution_count": 35,
      "outputs": [
        {
          "output_type": "stream",
          "name": "stdout",
          "text": [
            "1/1 [==============================] - 0s 83ms/step\n",
            "[[0.09243034 0.01620198 0.0282903  0.06316641 0.13778272 0.03758195\n",
            "  0.35562629 0.12339685 0.13288246 0.01264078]] [9]\n"
          ]
        }
      ]
    },
    {
      "cell_type": "code",
      "source": [
        "model.summary()"
      ],
      "metadata": {
        "colab": {
          "base_uri": "https://localhost:8080/"
        },
        "id": "jyIde-oKi9jS",
        "outputId": "2433472a-1d97-4174-da7c-32b5847d7125"
      },
      "execution_count": 36,
      "outputs": [
        {
          "output_type": "stream",
          "name": "stdout",
          "text": [
            "Model: \"sequential_10\"\n",
            "_________________________________________________________________\n",
            " Layer (type)                Output Shape              Param #   \n",
            "=================================================================\n",
            " flatten_10 (Flatten)        (None, 784)               0         \n",
            "                                                                 \n",
            " dense_18 (Dense)            (None, 256)               200960    \n",
            "                                                                 \n",
            " dense_19 (Dense)            (None, 128)               32896     \n",
            "                                                                 \n",
            " dense_20 (Dense)            (None, 10)                1290      \n",
            "                                                                 \n",
            "=================================================================\n",
            "Total params: 235146 (918.54 KB)\n",
            "Trainable params: 235146 (918.54 KB)\n",
            "Non-trainable params: 0 (0.00 Byte)\n",
            "_________________________________________________________________\n"
          ]
        }
      ]
    },
    {
      "cell_type": "code",
      "source": [
        "model.compile(\n",
        "    loss=\"sparse_categorical_crossentropy\",\n",
        "    optimizer=\"sgd\",\n",
        "    metrics=[\"accuracy\"]\n",
        ")"
      ],
      "metadata": {
        "id": "gIigp3pnjEwQ"
      },
      "execution_count": 37,
      "outputs": []
    },
    {
      "cell_type": "code",
      "source": [
        "history = model.fit(images, targets, epochs=10)"
      ],
      "metadata": {
        "colab": {
          "base_uri": "https://localhost:8080/"
        },
        "id": "Phot4cw9jZ_C",
        "outputId": "d21951fc-6e36-4d71-9d76-065699239623"
      },
      "execution_count": 38,
      "outputs": [
        {
          "output_type": "stream",
          "name": "stdout",
          "text": [
            "Epoch 1/10\n",
            "313/313 [==============================] - 2s 5ms/step - loss: 0.7879 - accuracy: 0.7339\n",
            "Epoch 2/10\n",
            "313/313 [==============================] - 2s 5ms/step - loss: 0.5215 - accuracy: 0.8154\n",
            "Epoch 3/10\n",
            "313/313 [==============================] - 1s 5ms/step - loss: 0.4600 - accuracy: 0.8365\n",
            "Epoch 4/10\n",
            "313/313 [==============================] - 1s 5ms/step - loss: 0.4229 - accuracy: 0.8473\n",
            "Epoch 5/10\n",
            "313/313 [==============================] - 2s 5ms/step - loss: 0.3919 - accuracy: 0.8613\n",
            "Epoch 6/10\n",
            "313/313 [==============================] - 2s 8ms/step - loss: 0.3728 - accuracy: 0.8656\n",
            "Epoch 7/10\n",
            "313/313 [==============================] - 2s 6ms/step - loss: 0.3544 - accuracy: 0.8726\n",
            "Epoch 8/10\n",
            "313/313 [==============================] - 1s 5ms/step - loss: 0.3368 - accuracy: 0.8802\n",
            "Epoch 9/10\n",
            "313/313 [==============================] - 1s 5ms/step - loss: 0.3235 - accuracy: 0.8834\n",
            "Epoch 10/10\n",
            "313/313 [==============================] - 1s 5ms/step - loss: 0.3060 - accuracy: 0.8904\n"
          ]
        }
      ]
    },
    {
      "cell_type": "code",
      "source": [
        "loss_curve = history.history['loss']\n",
        "acc_curve = history.history['accuracy']\n",
        "\n",
        "\n",
        "plt.subplots()\n",
        "plt.plot(loss_curve)\n",
        "plt.title(\"Loss\")\n",
        "plt.subplots()\n",
        "plt.plot(acc_curve)\n",
        "plt.title(\"Accuracy\")\n",
        "plt.show()"
      ],
      "metadata": {
        "colab": {
          "base_uri": "https://localhost:8080/",
          "height": 887
        },
        "id": "7BvWMuHgjqCa",
        "outputId": "6007d20d-6a29-4705-e824-ffd7e143ea17"
      },
      "execution_count": 39,
      "outputs": [
        {
          "output_type": "display_data",
          "data": {
            "text/plain": [
              "<Figure size 640x480 with 1 Axes>"
            ],
            "image/png": "[encoded data removed]"
          },
          "metadata": {}
        },
        {
          "output_type": "display_data",
          "data": {
            "text/plain": [
              "<Figure size 640x480 with 1 Axes>"
            ],
            "image/png": "[encoded data removed]"
          },
          "metadata": {}
        }
      ]
    }
  ]
}